{
 "cells": [
  {
   "cell_type": "code",
   "execution_count": 1,
   "id": "ad71fb40-52e1-4d9b-af53-af39725ffd31",
   "metadata": {
    "scrolled": true
   },
   "outputs": [
    {
     "name": "stderr",
     "output_type": "stream",
     "text": [
      "2025-06-24 01:20:57.994737: I tensorflow/core/util/port.cc:153] oneDNN custom operations are on. You may see slightly different numerical results due to floating-point round-off errors from different computation orders. To turn them off, set the environment variable `TF_ENABLE_ONEDNN_OPTS=0`.\n",
      "2025-06-24 01:20:58.016782: I tensorflow/core/platform/cpu_feature_guard.cc:210] This TensorFlow binary is optimized to use available CPU instructions in performance-critical operations.\n",
      "To enable the following instructions: AVX2 AVX_VNNI FMA, in other operations, rebuild TensorFlow with the appropriate compiler flags.\n",
      "2025-06-24 01:20:58.634452: I tensorflow/core/util/port.cc:153] oneDNN custom operations are on. You may see slightly different numerical results due to floating-point round-off errors from different computation orders. To turn them off, set the environment variable `TF_ENABLE_ONEDNN_OPTS=0`.\n"
     ]
    },
    {
     "name": "stdout",
     "output_type": "stream",
     "text": [
      "Neuron output:  1.0\n",
      "Pre activation :  tf.Tensor([[0.]], shape=(1, 1), dtype=float32)\n",
      "Neuron output:  0.0\n",
      "Pre activation :  tf.Tensor([[-0.6]], shape=(1, 1), dtype=float32)\n"
     ]
    }
   ],
   "source": [
    "# Single neuron model implementation using TensorFlow.\n",
    "# In this example, synaptic weights are passed to \n",
    "# network.\n",
    "#\n",
    "# Author: Prof. Fabrício Galende Marques de Carvalho\n",
    "##\n",
    "\n",
    "from neuron_model_tensorflow import Neuron\n",
    "import numpy as np\n",
    "\n",
    "def activation(x):\n",
    "    return 1. if x>=0 else 0.0\n",
    "\n",
    "\n",
    "neuron = Neuron([0.6, 0.4], -1.0, activation)\n",
    "\n",
    "x = np.array([[1.0, 1.0]], dtype= np.float32)\n",
    "print(\"Neuron output: \", neuron.output(x))\n",
    "print(\"Pre activation : \", neuron.pre_act)\n",
    "\n",
    "x = np.array([[0.0, 1.0]], dtype= np.float32)\n",
    "print(\"Neuron output: \", neuron.output(x))\n",
    "print(\"Pre activation : \", neuron.pre_act)"
   ]
  },
  {
   "cell_type": "code",
   "execution_count": 2,
   "id": "ed157cea-6b28-4d8c-810c-b51a875bf11d",
   "metadata": {},
   "outputs": [
    {
     "name": "stdout",
     "output_type": "stream",
     "text": [
      "Neuron output:  tf.Tensor([[0.5]], shape=(1, 1), dtype=float32)\n",
      "Pre activation :  tf.Tensor([[0.]], shape=(1, 1), dtype=float32)\n",
      "Neuron output:  tf.Tensor([[0.35434368]], shape=(1, 1), dtype=float32)\n",
      "Pre activation :  tf.Tensor([[-0.6]], shape=(1, 1), dtype=float32)\n"
     ]
    }
   ],
   "source": [
    "# Now we change to sigmoid (logistic) activation function\n",
    "neuron = Neuron([0.6, 0.4], -1.0, 'sigmoid')\n",
    "x = np.array([[1.0, 1.0]], dtype= np.float32)\n",
    "print(\"Neuron output: \", neuron.output(x))\n",
    "print(\"Pre activation : \", neuron.pre_act)\n",
    "\n",
    "x = np.array([[0.0, 1.0]], dtype= np.float32)\n",
    "print(\"Neuron output: \", neuron.output(x))\n",
    "print(\"Pre activation : \", neuron.pre_act)\n"
   ]
  }
 ],
 "metadata": {
  "kernelspec": {
   "display_name": "Python (Neurocomputing)",
   "language": "python",
   "name": "neurocomputing"
  },
  "language_info": {
   "codemirror_mode": {
    "name": "ipython",
    "version": 3
   },
   "file_extension": ".py",
   "mimetype": "text/x-python",
   "name": "python",
   "nbconvert_exporter": "python",
   "pygments_lexer": "ipython3",
   "version": "3.10.12"
  }
 },
 "nbformat": 4,
 "nbformat_minor": 5
}
