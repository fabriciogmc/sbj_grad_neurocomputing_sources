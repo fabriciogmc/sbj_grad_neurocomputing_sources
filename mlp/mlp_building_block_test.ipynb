{
 "cells": [
  {
   "cell_type": "code",
   "execution_count": 1,
   "id": "038e438a-59fb-4243-a779-5559bd829511",
   "metadata": {},
   "outputs": [
    {
     "name": "stdout",
     "output_type": "stream",
     "text": [
      "0.5\n",
      "0.25\n"
     ]
    }
   ],
   "source": [
    "# Artificial Neural Network building block test\n",
    "# In this example it is shown how to build a single neuron,\n",
    "# layer or feedforward neural networkd. It is also shown\n",
    "# how to build and train a multilayer perceptron to solve\n",
    "# the XOR problem\n",
    "# \n",
    "\n",
    "from mlp_model import *\n",
    "import numpy as np\n",
    "from matplotlib import pyplot as plt\n",
    "from random import shuffle\n",
    "\n",
    "\n",
    "# First we define our activation function to \n",
    "def sigmoid(x):\n",
    "    return 1/ (1+ np.exp(-x))\n",
    "\n",
    "def d_sigmoid(x):\n",
    "    return sigmoid(x)*(1-sigmoid(x))\n",
    "\n",
    "# For hyperbolic tangent use np.tanh() and (1 - np.tanh(x)**2)\n",
    "def d_tanh(x):\n",
    "    return (1-np.tanh(x)**2)\n",
    "                        \n",
    "print(sigmoid(0))\n",
    "print(d_sigmoid(0))\n"
   ]
  },
  {
   "cell_type": "code",
   "execution_count": 2,
   "id": "d1bea59a-46a5-4015-918b-bdef4102b7c9",
   "metadata": {
    "scrolled": true
   },
   "outputs": [
    {
     "name": "stdout",
     "output_type": "stream",
     "text": [
      "Help on class Neuron in module mlp_model:\n",
      "\n",
      "class Neuron(builtins.object)\n",
      " |  Neuron(act_func, d_act_func, pre_act=0, post_act=0)\n",
      " |  \n",
      " |  Basic neuron model used to build a single\n",
      " |  processing unit.\n",
      " |  \n",
      " |  Methods defined here:\n",
      " |  \n",
      " |  __init__(self, act_func, d_act_func, pre_act=0, post_act=0)\n",
      " |      Initialize self.  See help(type(self)) for accurate signature.\n",
      " |  \n",
      " |  process(self, v)\n",
      " |  \n",
      " |  process_d(self)\n",
      " |  \n",
      " |  ----------------------------------------------------------------------\n",
      " |  Data descriptors defined here:\n",
      " |  \n",
      " |  __dict__\n",
      " |      dictionary for instance variables (if defined)\n",
      " |  \n",
      " |  __weakref__\n",
      " |      list of weak references to the object (if defined)\n",
      "\n",
      "0.5\n",
      "0\n",
      "0.5\n",
      "0.25\n"
     ]
    }
   ],
   "source": [
    "# Now we instantiate a single neuron\n",
    "single_neuron = Neuron(sigmoid,d_sigmoid)\n",
    "help(Neuron)\n",
    "print( single_neuron.process(0) )\n",
    "print( single_neuron.pre_activation )\n",
    "print( single_neuron.post_activation ) \n",
    "print( single_neuron.process_d() )"
   ]
  },
  {
   "cell_type": "code",
   "execution_count": 3,
   "id": "c9cf724d-be42-43b7-8dc7-7b995bb36816",
   "metadata": {},
   "outputs": [
    {
     "name": "stdout",
     "output_type": "stream",
     "text": [
      "Neurons:  [<mlp_model.Neuron object at 0x7854d007f4c0>\n",
      " <mlp_model.Neuron object at 0x7854d007f370>\n",
      " <mlp_model.Neuron object at 0x7854d007f2b0>]\n",
      "Layer output for column vector [0,0,0]^T as inputs: [[0.5]\n",
      " [0.5]\n",
      " [0.5]]\n",
      "Derivative outputs for column vector [0,0,0]^T as inputs: [[0.25]\n",
      " [0.25]\n",
      " [0.25]]\n",
      "Derivative shape:  (3, 1)\n"
     ]
    }
   ],
   "source": [
    "# Now instatiate a single layer we proceed as follows\n",
    "single_layer = Layer(3, Neuron, sigmoid, d_sigmoid)\n",
    "print(\"Neurons: \", single_layer.neurons)\n",
    "layer_output = single_layer.process(np.zeros((3,1)))\n",
    "d_layer_output = single_layer.process_d()\n",
    "print(\"Layer output for column vector [0,0,0]^T as inputs:\", layer_output)\n",
    "print(\"Derivative outputs for column vector [0,0,0]^T as inputs:\", d_layer_output)\n",
    "print(\"Derivative shape: \",d_layer_output.shape)\n"
   ]
  },
  {
   "cell_type": "code",
   "execution_count": 4,
   "id": "177db055-da3f-47cd-a5b1-220673d669fa",
   "metadata": {},
   "outputs": [
    {
     "name": "stdout",
     "output_type": "stream",
     "text": [
      "Layer output:  [[0.5       ]\n",
      " [0.26894142]\n",
      " [0.73105858]]\n",
      "post activation:  [[0.5       ]\n",
      " [0.26894142]\n",
      " [0.73105858]]\n",
      "pre activation [[ 0]\n",
      " [-1]\n",
      " [ 1]]\n",
      "derivative outputs:  [[0.25      ]\n",
      " [0.19661193]\n",
      " [0.19661193]]\n"
     ]
    }
   ],
   "source": [
    "#Let's try a different input value for neurons:\n",
    "layer_output = single_layer.process(np.array([0, -1, 1]).reshape(-1,1))\n",
    "d_layer_output = single_layer.process_d()\n",
    "print(\"Layer output: \", layer_output)\n",
    "print(\"post activation: \" , single_layer.post_activation)\n",
    "print(\"pre activation\", single_layer.pre_activation)\n",
    "print(\"derivative outputs: \", d_layer_output)\n"
   ]
  },
  {
   "cell_type": "code",
   "execution_count": 5,
   "id": "c585e28c-df0d-4fb8-af07-2882eadd07ef",
   "metadata": {},
   "outputs": [
    {
     "name": "stdout",
     "output_type": "stream",
     "text": [
      "[[0.5       ]\n",
      " [0.26894142]\n",
      " [0.73105858]]\n",
      "post activation:  [[0.5       ]\n",
      " [0.26894142]\n",
      " [0.73105858]]\n",
      "pre activation [[ 0]\n",
      " [-1]\n",
      " [ 1]]\n",
      "derivative values:  [[0.25      ]\n",
      " [0.19661193]\n",
      " [0.19661193]]\n"
     ]
    }
   ],
   "source": [
    "# Now we repeat the procedure but compute local derivatives\n",
    "# during forward processs:\n",
    "#Let's try a different input value for neurons:\n",
    "single_layer.local_derivatives = np.zeros((3,1))\n",
    "layer_output = single_layer.process([0, -1, 1], learn=True)\n",
    "print(layer_output)\n",
    "print(\"post activation: \" , single_layer.post_activation)\n",
    "print(\"pre activation\", single_layer.pre_activation)\n",
    "print(\"derivative values: \", single_layer.local_derivatives)\n"
   ]
  },
  {
   "cell_type": "code",
   "execution_count": 6,
   "id": "c521001c-3e36-4ae0-b799-70b4802258a2",
   "metadata": {},
   "outputs": [
    {
     "name": "stdout",
     "output_type": "stream",
     "text": [
      "input-to-hidden layer weights:  [[ 0.09762701  0.43037873  0.20552675  0.08976637]\n",
      " [-0.1526904   0.29178823 -0.12482558  0.783546  ]]\n",
      "hidden-to-output layer weights:  [[ 0.92732552 -0.23311696  0.58345008]]\n",
      "[[0.76859421]]\n"
     ]
    }
   ],
   "source": [
    "# Now we build a [3,2,1] Feed Forward Neural Network with 2 processing layer and one bias per layer\n",
    "\n",
    "layer_1 = Layer(2, Neuron, sigmoid, d_sigmoid)\n",
    "layer_2 = Layer(1, Neuron, sigmoid, d_sigmoid)\n",
    "ff_neural_network = FFNeuralNetwork([3 , 2 ,1],[layer_1,layer_2])\n",
    "\n",
    "# To view weight matrices:\n",
    "print(\"input-to-hidden layer weights: \", ff_neural_network.weights[0])\n",
    "print(\"hidden-to-output layer weights: \", ff_neural_network.weights[1])\n",
    "\n",
    "# To propagate a single input:\n",
    "nn_out = ff_neural_network.process( np.array( [ [1], [2], [3] ]) ) \n",
    "print( nn_out )"
   ]
  },
  {
   "cell_type": "code",
   "execution_count": 7,
   "id": "75237b1a-d033-4606-9e1b-ef9a5f4fe95b",
   "metadata": {},
   "outputs": [
    {
     "name": "stdout",
     "output_type": "stream",
     "text": [
      "predicted outputs: \n",
      "#1 [[0.55120158]\n",
      " [0.57243386]]\n",
      "#2 [[0.78701905]]\n",
      "derivatives:\n",
      "#1 [[0.2473784 ]\n",
      " [0.24475334]]\n",
      "#2 [[0.16762006]]\n"
     ]
    }
   ],
   "source": [
    "# Now we test the backpropagation algorithm for\n",
    "# the [2,2,1] network that solves the XOR problem.\n",
    "#layer_1 = Layer(2, Neuron, np.tanh, d_tanh)\n",
    "#layer_2 = Layer(1, Neuron, np.tanh, d_tanh)\n",
    "\n",
    "# For sigmoidal activation function\n",
    "layer_1 = Layer(2, Neuron, sigmoid, d_sigmoid)\n",
    "layer_2 = Layer(1, Neuron, sigmoid, d_sigmoid)\n",
    "\n",
    "# We can change initial conditions by changing the rand_seed value\n",
    "ff_neural_network = FFNeuralNetwork([2,2,1],[layer_1,layer_2])\n",
    "\n",
    "x_in = [ [0, 0], [0, 1], [1, 0], [1, 1] ]\n",
    "y_d = [ [0],  [1], [1], [0] ]\n",
    "\n",
    "# lets test for some input before network training \n",
    "out = ff_neural_network.process(np.array(x_in[0]).reshape(-1,1), learn = True)\n",
    "print(\"predicted outputs: \")\n",
    "\n",
    "print(\"#1\", ff_neural_network.layers[0].post_activation)\n",
    "print(\"#2\",  ff_neural_network.layers[1].post_activation)\n",
    "print(\"derivatives:\")\n",
    "print(\"#1\",  ff_neural_network.layers[0].local_derivatives)\n",
    "print(\"#2\",  ff_neural_network.layers[1].local_derivatives)\n",
    "\n",
    "      "
   ]
  },
  {
   "cell_type": "code",
   "execution_count": 8,
   "id": "c664acd5-a4f9-404a-beb3-002e0681596e",
   "metadata": {},
   "outputs": [
    {
     "data": {
      "text/plain": [
       "[<matplotlib.lines.Line2D at 0x78546c11fa60>]"
      ]
     },
     "execution_count": 8,
     "metadata": {},
     "output_type": "execute_result"
    },
    {
     "data": {
      "image/png": "[encoded data removed]",
      "text/plain": [
       "<Figure size 640x480 with 1 Axes>"
      ]
     },
     "metadata": {},
     "output_type": "display_data"
    }
   ],
   "source": [
    "# now e perform the backpropagation traning\n",
    "n_epochs = 50000\n",
    "error = []\n",
    "for epoch in range(n_epochs):\n",
    "    data_idx = list(range(len(x_in)))\n",
    "    shuffle(data_idx)\n",
    "    e_s = 0\n",
    "    for idx in data_idx:\n",
    "        e = ff_neural_network.backprop(np.array(x_in[idx]).reshape(-1,1), np.array(y_d[idx]).reshape(-1,1), 0.1)\n",
    "        e_s = e_s + e[0][0]**2\n",
    "    error.append(e_s/len(x_in))\n",
    "    # average squared error after one epoch\n",
    "\n",
    "plt.figure()\n",
    "plt.plot(error)"
   ]
  },
  {
   "cell_type": "code",
   "execution_count": 9,
   "id": "b03f484e-4418-45ca-899a-7431f756518e",
   "metadata": {},
   "outputs": [
    {
     "name": "stdout",
     "output_type": "stream",
     "text": [
      "predicted output for [0, 0]  [[0.01900377]]\n",
      "predicted output for [0, 1]  [[0.98197728]]\n",
      "predicted output for [1, 0]  [[0.97841015]]\n",
      "predicted output for [1, 1]  [[0.01694424]]\n"
     ]
    }
   ],
   "source": [
    "# Now we check to see if the error has decreased:\n",
    "out = ff_neural_network.process(np.array(x_in[0]).reshape(-1,1), learn = False)\n",
    "print(\"predicted output for [0, 0] \", out)\n",
    "out = ff_neural_network.process(np.array(x_in[1]).reshape(-1,1), learn = False)\n",
    "print(\"predicted output for [0, 1] \", out)\n",
    "out = ff_neural_network.process(np.array(x_in[2]).reshape(-1,1), learn = False)\n",
    "print(\"predicted output for [1, 0] \", out)\n",
    "out = ff_neural_network.process(np.array(x_in[3]).reshape(-1,1), learn = False)\n",
    "print(\"predicted output for [1, 1] \", out)\n"
   ]
  }
 ],
 "metadata": {
  "kernelspec": {
   "display_name": "Python (Neurocomputing)",
   "language": "python",
   "name": "neurocomputing"
  },
  "language_info": {
   "codemirror_mode": {
    "name": "ipython",
    "version": 3
   },
   "file_extension": ".py",
   "mimetype": "text/x-python",
   "name": "python",
   "nbconvert_exporter": "python",
   "pygments_lexer": "ipython3",
   "version": "3.10.12"
  }
 },
 "nbformat": 4,
 "nbformat_minor": 5
}
